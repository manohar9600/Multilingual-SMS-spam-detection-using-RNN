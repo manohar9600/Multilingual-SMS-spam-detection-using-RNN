{
 "cells": [
  {
   "cell_type": "code",
   "execution_count": 1,
   "metadata": {
    "ExecuteTime": {
     "end_time": "2018-05-03T08:21:56.621081Z",
     "start_time": "2018-05-03T08:21:50.161917Z"
    }
   },
   "outputs": [
    {
     "name": "stdout",
     "output_type": "stream",
     "text": [
      "[[1939  126]\n",
      " [  75  395]]\n"
     ]
    }
   ],
   "source": [
    "# importing packages\n",
    "import pandas as pd\n",
    "import numpy as np\n",
    "# preprocessing the data\n",
    "data1 = pd.read_csv('spam.csv', encoding = 'latin-1')\n",
    "data1 = data1.drop(['Unnamed: 2', 'Unnamed: 3', 'Unnamed: 4'], axis = 1)\n",
    "\n",
    "data2 = pd.ExcelFile('revisedindiandataset.xls')\n",
    "data2 = data2.parse(0)\n",
    "data2 = data2.drop(['code'], axis = 1)\n",
    "\n",
    "\n",
    "data = pd.concat([data1, data2])\n",
    "# encoding Data\n",
    "data['label'] = pd.factorize(data['label'])[0]\n",
    "\n",
    "\n",
    "# splitting data\n",
    "from sklearn.model_selection import train_test_split\n",
    "X_train, X_test, y_train, y_test = train_test_split(data['msg'], data['label'], test_size = 0.25)\n",
    "\n",
    "# creating bag of words model\n",
    "from sklearn.feature_extraction.text import CountVectorizer\n",
    "cv = CountVectorizer(max_features = 410)\n",
    "cv.fit(data['msg'])\n",
    "X_train = cv.transform(X_train)\n",
    "X_test = cv.transform(X_test)\n",
    "\n",
    "# Training classifier\n",
    "from sklearn.naive_bayes import MultinomialNB\n",
    "classifier = MultinomialNB()\n",
    "classifier.fit(X_train, y_train)\n",
    "y_pred = classifier.predict(X_test)\n",
    "\n",
    "#Confusion Matrix                                               \n",
    "from sklearn.metrics import confusion_matrix\n",
    "cm = confusion_matrix(y_test, y_pred)\n",
    "print(cm)"
   ]
  },
  {
   "cell_type": "code",
   "execution_count": null,
   "metadata": {
    "collapsed": true
   },
   "outputs": [],
   "source": []
  }
 ],
 "metadata": {
  "kernelspec": {
   "display_name": "Python 3",
   "language": "python",
   "name": "python3"
  },
  "language_info": {
   "codemirror_mode": {
    "name": "ipython",
    "version": 3
   },
   "file_extension": ".py",
   "mimetype": "text/x-python",
   "name": "python",
   "nbconvert_exporter": "python",
   "pygments_lexer": "ipython3",
   "version": "3.6.3"
  }
 },
 "nbformat": 4,
 "nbformat_minor": 2
}
