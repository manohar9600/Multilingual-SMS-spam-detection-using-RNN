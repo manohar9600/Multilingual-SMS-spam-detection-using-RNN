{
 "cells": [
  {
   "cell_type": "markdown",
   "metadata": {},
   "source": [
    "# Text Preprocessing"
   ]
  },
  {
   "cell_type": "code",
   "execution_count": 1,
   "metadata": {
    "ExecuteTime": {
     "end_time": "2018-03-16T05:55:53.744040Z",
     "start_time": "2018-03-16T05:55:53.446840Z"
    }
   },
   "outputs": [],
   "source": [
    "import pandas as pd\n",
    "import numpy as np"
   ]
  },
  {
   "cell_type": "code",
   "execution_count": 2,
   "metadata": {
    "ExecuteTime": {
     "end_time": "2018-03-16T05:55:54.996032Z",
     "start_time": "2018-03-16T05:55:54.455102Z"
    }
   },
   "outputs": [],
   "source": [
    "data1 = pd.read_csv('Resources/spam.csv', encoding = 'latin-1')\n",
    "list = ['Unnamed: 2', 'Unnamed: 3', 'Unnamed: 4']\n",
    "data1 = data1.drop(list, axis=1)\n",
    "\n",
    "data2 = pd.ExcelFile('Resources/indiandataset.xls')\n",
    "data2 = data2.parse(0)\n",
    "data2.head()\n",
    "\n",
    "data = pd.concat([data1, data2])"
   ]
  },
  {
   "cell_type": "code",
   "execution_count": 3,
   "metadata": {
    "ExecuteTime": {
     "end_time": "2018-03-16T05:56:04.743140Z",
     "start_time": "2018-03-16T05:55:56.442044Z"
    }
   },
   "outputs": [
    {
     "name": "stderr",
     "output_type": "stream",
     "text": [
      "/home/manohar/anaconda3/lib/python3.6/site-packages/h5py/__init__.py:36: FutureWarning: Conversion of the second argument of issubdtype from `float` to `np.floating` is deprecated. In future, it will be treated as `np.float64 == np.dtype(float).type`.\n",
      "  from ._conv import register_converters as _register_converters\n",
      "Using TensorFlow backend.\n"
     ]
    }
   ],
   "source": [
    "from keras.preprocessing.text import text_to_word_sequence\n",
    "temp = []\n",
    "for row in data.itertuples():\n",
    "    words = []\n",
    "    rev = str(row[2])\n",
    "    rev = text_to_word_sequence(rev)\n",
    "    temp.append(rev)\n",
    "data['msg'] = temp"
   ]
  },
  {
   "cell_type": "code",
   "execution_count": 5,
   "metadata": {
    "ExecuteTime": {
     "end_time": "2018-03-14T06:08:40.901924Z",
     "start_time": "2018-03-14T06:08:40.883517Z"
    },
    "scrolled": true
   },
   "outputs": [
    {
     "name": "stdout",
     "output_type": "stream",
     "text": [
      "0       [go, until, jurong, point, crazy, available, o...\n",
      "1                          [ok, lar, joking, wif, u, oni]\n",
      "2       [free, entry, in, 2, a, wkly, comp, to, win, f...\n",
      "3       [u, dun, say, so, early, hor, u, c, already, t...\n",
      "4       [nah, i, don't, think, he, goes, to, usf, he, ...\n",
      "5       [freemsg, hey, there, darling, it's, been, 3, ...\n",
      "6       [even, my, brother, is, not, like, to, speak, ...\n",
      "7       [as, per, your, request, 'melle, melle, oru, m...\n",
      "8       [winner, as, a, valued, network, customer, you...\n",
      "9       [had, your, mobile, 11, months, or, more, u, r...\n",
      "10      [i'm, gonna, be, home, soon, and, i, don't, wa...\n",
      "11      [six, chances, to, win, cash, from, 100, to, 2...\n",
      "12      [urgent, you, have, won, a, 1, week, free, mem...\n",
      "13      [i've, been, searching, for, the, right, words...\n",
      "14             [i, have, a, date, on, sunday, with, will]\n",
      "15      [xxxmobilemovieclub, to, use, your, credit, cl...\n",
      "16                           [oh, k, i'm, watching, here]\n",
      "17      [eh, u, remember, how, 2, spell, his, name, ye...\n",
      "18      [fine, if, thatåõs, the, way, u, feel, thatåõs...\n",
      "19      [england, v, macedonia, dont, miss, the, goals...\n",
      "20      [is, that, seriously, how, you, spell, his, name]\n",
      "21      [iû÷m, going, to, try, for, 2, months, ha, ha...\n",
      "22      [so, ì, pay, first, lar, then, when, is, da, s...\n",
      "23      [aft, i, finish, my, lunch, then, i, go, str, ...\n",
      "24      [ffffffffff, alright, no, way, i, can, meet, u...\n",
      "25      [just, forced, myself, to, eat, a, slice, i'm,...\n",
      "26                    [lol, your, always, so, convincing]\n",
      "27      [did, you, catch, the, bus, are, you, frying, ...\n",
      "28      [i'm, back, amp, we're, packing, the, car, now...\n",
      "29      [ahhh, work, i, vaguely, remember, that, what,...\n",
      "                              ...                        \n",
      "4566    [welcome, to, jio, bihar, jharkhand, enjoy, fr...\n",
      "4567    [welcome, to, jio, bihar, jharkhand, enjoy, fr...\n",
      "4568    [you, have, used, 50, of, your, 1, gb, daily, ...\n",
      "4569    [now, streaming, on, jiocinema, romil, and, ju...\n",
      "4570    [nothing, says, 'i, love, you', better, than, ...\n",
      "4571    [for, just, rs, 3, 50, day, enjoy, unlimited, ...\n",
      "4572    [for, just, rs, 3, 50, day, enjoy, unlimited, ...\n",
      "4573    [you, have, used, 50, of, your, 1, gb, daily, ...\n",
      "4574    [go, cashless, anytime, anywhere, with, bhim, ...\n",
      "4575    [public, is, hereby, cautioned, to, be, extra,...\n",
      "4576    [for, just, rs, 3, 50, day, enjoy, unlimited, ...\n",
      "4577    [dear, customer, 345393, is, your, one, time, ...\n",
      "4578    [dear, customer, 075355, is, your, one, time, ...\n",
      "4579    [welcome, to, jio, bihar, jharkhand, enjoy, fr...\n",
      "4580    [welcome, to, jio, bihar, jharkhand, enjoy, fr...\n",
      "4581    [all, new, channel, discovery, jeet, now, stre...\n",
      "4582    [for, just, rs, 3, 50, day, enjoy, unlimited, ...\n",
      "4583    [మీరు, మీ, యొక్క1, gb, లో, 50, ఉపయోగించారు, రో...\n",
      "4584    [మీ, జియో, నంబర్, 8639417540, పై, 1, gb, హై, స...\n",
      "4585    [you, have, used, 50, of, your, 1, gb, daily, ...\n",
      "4586    [make, the, most, of, february, cafe, coffee, ...\n",
      "4587    [freecharge, offer, get, rs, 20, cashback, on,...\n",
      "4588    [otp, for, transaction, irctc, railway, ticket...\n",
      "4589    [otp, for, transaction, irctc, railway, ticket...\n",
      "4590    [730710, is, your, one, time, password, for, o...\n",
      "4591    [autocad, catia, staad, pro, pro, e, solid, mo...\n",
      "4592    [rs, 100, has, been, paid, to, real, appu, gha...\n",
      "4593    [paid, rs, 7100, 00, to, yash, mobile, at, 6, ...\n",
      "4594    [dear, sbi, upi, user, your, account, is, debi...\n",
      "4595    [dear, sbi, upi, user, your, account, is, debi...\n",
      "Name: msg, Length: 10168, dtype: object\n"
     ]
    }
   ],
   "source": [
    "print(data['msg'])"
   ]
  },
  {
   "cell_type": "markdown",
   "metadata": {},
   "source": [
    "# converting words to vectors"
   ]
  },
  {
   "cell_type": "code",
   "execution_count": 4,
   "metadata": {
    "ExecuteTime": {
     "end_time": "2018-03-16T05:56:53.529481Z",
     "start_time": "2018-03-16T05:56:53.198408Z"
    }
   },
   "outputs": [],
   "source": [
    "from keras.preprocessing.text import Tokenizer\n",
    "from keras.preprocessing.sequence import pad_sequences\n",
    "\n",
    "max_features = 22000\n",
    "\n",
    "tokenizer = Tokenizer(num_words=max_features)\n",
    "tokenizer.fit_on_texts(data['msg'])\n",
    "\n",
    "X = tokenizer.texts_to_sequences(data['msg'])\n",
    "X = pad_sequences(X)"
   ]
  },
  {
   "cell_type": "markdown",
   "metadata": {},
   "source": [
    "# designing nn classifier"
   ]
  },
  {
   "cell_type": "code",
   "execution_count": 47,
   "metadata": {
    "ExecuteTime": {
     "end_time": "2018-03-16T06:20:51.683575Z",
     "start_time": "2018-03-16T06:20:51.673476Z"
    }
   },
   "outputs": [],
   "source": [
    "from sklearn.model_selection import train_test_split\n",
    "X_train, X_test, Y_train, Y_test = train_test_split(X, data['label'], test_size = 0.30)\n",
    "\n",
    "Y_train = pd.get_dummies(Y_train).values"
   ]
  },
  {
   "cell_type": "code",
   "execution_count": 22,
   "metadata": {
    "ExecuteTime": {
     "end_time": "2018-03-13T19:34:56.913304Z",
     "start_time": "2018-03-13T19:34:56.907974Z"
    }
   },
   "outputs": [
    {
     "data": {
      "text/plain": [
       "array([[   0,    0,    0, ...,  106,    4, 5245],\n",
       "       [   0,    0,    0, ..., 5116, 5117, 5118],\n",
       "       [   0,    0,    0, ...,  400, 1997,    1],\n",
       "       ...,\n",
       "       [   0,    0,    0, ..., 7013, 7014,    1],\n",
       "       [   0,    0,    0, ..., 3050, 3051, 3052],\n",
       "       [   0,    0,    0, ...,    9,    1,  908]], dtype=int32)"
      ]
     },
     "execution_count": 22,
     "metadata": {},
     "output_type": "execute_result"
    }
   ],
   "source": [
    "X_train"
   ]
  },
  {
   "cell_type": "code",
   "execution_count": 6,
   "metadata": {
    "ExecuteTime": {
     "end_time": "2018-03-16T05:57:23.170374Z",
     "start_time": "2018-03-16T05:57:22.174058Z"
    }
   },
   "outputs": [
    {
     "name": "stderr",
     "output_type": "stream",
     "text": [
      "/home/manohar/.local/lib/python3.6/site-packages/ipykernel_launcher.py:11: UserWarning: Update your `LSTM` call to the Keras 2 API: `LSTM(196, dropout=0.2, recurrent_dropout=0.2)`\n",
      "  # This is added back by InteractiveShellApp.init_path()\n"
     ]
    },
    {
     "name": "stdout",
     "output_type": "stream",
     "text": [
      "_________________________________________________________________\n",
      "Layer (type)                 Output Shape              Param #   \n",
      "=================================================================\n",
      "embedding_1 (Embedding)      (None, 189, 128)          2816000   \n",
      "_________________________________________________________________\n",
      "lstm_1 (LSTM)                (None, 196)               254800    \n",
      "_________________________________________________________________\n",
      "dense_1 (Dense)              (None, 2)                 394       \n",
      "=================================================================\n",
      "Total params: 3,071,194\n",
      "Trainable params: 3,071,194\n",
      "Non-trainable params: 0\n",
      "_________________________________________________________________\n",
      "None\n"
     ]
    }
   ],
   "source": [
    "from keras.models import Sequential\n",
    "from keras.layers import Dense, Embedding, LSTM\n",
    "\n",
    "embed_dim = 128\n",
    "lstm_out = 196\n",
    "\n",
    "\n",
    "model = Sequential()\n",
    "model.add(\n",
    "    Embedding(max_features, embed_dim, input_length=X.shape[1]))\n",
    "model.add(LSTM(lstm_out, dropout_U=0.2, dropout_W=0.2))\n",
    "model.add(Dense(2, activation='softmax'))\n",
    "model.compile(\n",
    "    loss='categorical_crossentropy', optimizer='adam', metrics=['accuracy'])\n",
    "print(model.summary())"
   ]
  },
  {
   "cell_type": "markdown",
   "metadata": {},
   "source": [
    "# training"
   ]
  },
  {
   "cell_type": "code",
   "execution_count": 7,
   "metadata": {
    "ExecuteTime": {
     "end_time": "2018-03-16T06:09:44.926703Z",
     "start_time": "2018-03-16T05:57:30.921992Z"
    }
   },
   "outputs": [
    {
     "name": "stdout",
     "output_type": "stream",
     "text": [
      "Epoch 1/6\n",
      "7117/7117 [==============================] - 137s 19ms/step - loss: 0.1708 - acc: 0.9372\n",
      "Epoch 2/6\n",
      "7117/7117 [==============================] - 121s 17ms/step - loss: 0.0464 - acc: 0.9845\n",
      "Epoch 3/6\n",
      "7117/7117 [==============================] - 118s 17ms/step - loss: 0.0209 - acc: 0.9931\n",
      "Epoch 4/6\n",
      "7117/7117 [==============================] - 118s 17ms/step - loss: 0.0162 - acc: 0.9956\n",
      "Epoch 5/6\n",
      "7117/7117 [==============================] - 118s 17ms/step - loss: 0.0107 - acc: 0.9966\n",
      "Epoch 6/6\n",
      "7117/7117 [==============================] - 120s 17ms/step - loss: 0.0089 - acc: 0.9973\n"
     ]
    },
    {
     "data": {
      "text/plain": [
       "<keras.callbacks.History at 0x7fe053ff25f8>"
      ]
     },
     "execution_count": 7,
     "metadata": {},
     "output_type": "execute_result"
    }
   ],
   "source": [
    "model.fit(X_train, Y_train, epochs = 6,batch_size = 20)"
   ]
  },
  {
   "cell_type": "code",
   "execution_count": 8,
   "metadata": {
    "ExecuteTime": {
     "end_time": "2018-03-16T06:09:57.572016Z",
     "start_time": "2018-03-16T06:09:49.503284Z"
    }
   },
   "outputs": [
    {
     "name": "stdout",
     "output_type": "stream",
     "text": [
      "[[2396   47]\n",
      " [  33  575]]\n"
     ]
    }
   ],
   "source": [
    "Y_pr = model.predict(X_test)\n",
    "\n",
    "Y_pred = []\n",
    "\n",
    "for i in range(len(Y_pr)):\n",
    "    if Y_pr[i][0] >= Y_pr[i][1]:\n",
    "        Y_pred.append('ham')\n",
    "    else:\n",
    "        Y_pred.append('spam')\n",
    "        \n",
    "from sklearn.metrics import confusion_matrix\n",
    "cm = confusion_matrix(Y_test, Y_pred)  \n",
    "print(cm)"
   ]
  },
  {
   "cell_type": "markdown",
   "metadata": {
    "ExecuteTime": {
     "end_time": "2018-03-14T06:27:25.114784Z",
     "start_time": "2018-03-14T06:27:24.956140Z"
    }
   },
   "source": [
    "# wrongly predicted"
   ]
  },
  {
   "cell_type": "code",
   "execution_count": 48,
   "metadata": {
    "ExecuteTime": {
     "end_time": "2018-03-16T06:21:07.776813Z",
     "start_time": "2018-03-16T06:21:07.769806Z"
    }
   },
   "outputs": [
    {
     "data": {
      "text/plain": [
       "11"
      ]
     },
     "execution_count": 48,
     "metadata": {},
     "output_type": "execute_result"
    }
   ],
   "source": [
    "import csv\n",
    "file = open('output/wrongly_predicted2.csv', 'w')\n",
    "wr_file = csv.writer(file)\n",
    "wr_file.writerow([\"label\",\"msg\"])"
   ]
  },
  {
   "cell_type": "code",
   "execution_count": 49,
   "metadata": {
    "ExecuteTime": {
     "end_time": "2018-03-16T06:21:10.643037Z",
     "start_time": "2018-03-16T06:21:10.514216Z"
    }
   },
   "outputs": [],
   "source": [
    "for i in range(len(Y_test)):    \n",
    "    if not Y_test.iloc[i] == Y_pred[i]:\n",
    "        wr_file.writerow([Y_test.iloc[i],X_test.iloc[i]])\n",
    "file.close()"
   ]
  },
  {
   "cell_type": "code",
   "execution_count": 42,
   "metadata": {
    "ExecuteTime": {
     "end_time": "2018-03-16T06:18:54.538320Z",
     "start_time": "2018-03-16T06:18:54.532381Z"
    }
   },
   "outputs": [
    {
     "name": "stdout",
     "output_type": "stream",
     "text": [
      "<class 'str'>\n",
      "<class 'str'>\n"
     ]
    }
   ],
   "source": [
    "i= 787\n",
    "print(type(Y_test.iloc[i]))\n",
    "print(type(Y_pred[i]))"
   ]
  },
  {
   "cell_type": "code",
   "execution_count": null,
   "metadata": {},
   "outputs": [],
   "source": []
  }
 ],
 "metadata": {
  "kernelspec": {
   "display_name": "Python 3",
   "language": "python",
   "name": "python3"
  },
  "language_info": {
   "codemirror_mode": {
    "name": "ipython",
    "version": 3
   },
   "file_extension": ".py",
   "mimetype": "text/x-python",
   "name": "python",
   "nbconvert_exporter": "python",
   "pygments_lexer": "ipython3",
   "version": "3.6.4"
  }
 },
 "nbformat": 4,
 "nbformat_minor": 2
}
