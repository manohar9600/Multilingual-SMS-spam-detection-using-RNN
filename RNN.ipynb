{
 "cells": [
  {
   "cell_type": "markdown",
   "metadata": {},
   "source": [
    "# Text Preprocessing"
   ]
  },
  {
   "cell_type": "code",
   "execution_count": 1,
   "metadata": {
    "ExecuteTime": {
     "end_time": "2018-03-19T07:39:28.779851Z",
     "start_time": "2018-03-19T07:39:28.569210Z"
    },
    "collapsed": true
   },
   "outputs": [],
   "source": [
    "import pandas as pd\n",
    "import numpy as np"
   ]
  },
  {
   "cell_type": "code",
   "execution_count": 2,
   "metadata": {
    "ExecuteTime": {
     "end_time": "2018-03-19T07:39:31.156366Z",
     "start_time": "2018-03-19T07:39:30.623758Z"
    },
    "collapsed": true
   },
   "outputs": [],
   "source": [
    "data1 = pd.read_csv('Resources/spam.csv', encoding = 'latin-1')\n",
    "list = ['Unnamed: 2', 'Unnamed: 3', 'Unnamed: 4']\n",
    "data1 = data1.drop(list, axis=1)\n",
    "\n",
    "data2 = pd.ExcelFile('Resources/indiandataset.xls')\n",
    "data2 = data2.parse(0)\n",
    "data2.head()\n",
    "\n",
    "data = pd.concat([data1, data2])"
   ]
  },
  {
   "cell_type": "code",
   "execution_count": 3,
   "metadata": {
    "ExecuteTime": {
     "end_time": "2018-03-19T07:39:35.416686Z",
     "start_time": "2018-03-19T07:39:32.692235Z"
    },
    "collapsed": true
   },
   "outputs": [],
   "source": [
    "from sklearn.model_selection import train_test_split\n",
    "X_train, X_test, Y_train, Y_test = train_test_split(data['msg'], data['label'], test_size = 0.30)\n",
    "\n",
    "Y_train = pd.get_dummies(Y_train).values"
   ]
  },
  {
   "cell_type": "code",
   "execution_count": 4,
   "metadata": {
    "ExecuteTime": {
     "end_time": "2018-03-19T07:39:42.348364Z",
     "start_time": "2018-03-19T07:39:35.419181Z"
    }
   },
   "outputs": [
    {
     "name": "stderr",
     "output_type": "stream",
     "text": [
      "/home/manohar/anaconda3/lib/python3.6/site-packages/h5py/__init__.py:36: FutureWarning: Conversion of the second argument of issubdtype from `float` to `np.floating` is deprecated. In future, it will be treated as `np.float64 == np.dtype(float).type`.\n",
      "  from ._conv import register_converters as _register_converters\n",
      "Using TensorFlow backend.\n"
     ]
    }
   ],
   "source": [
    "from keras.preprocessing.text import text_to_word_sequence\n",
    "temp = []\n",
    "for i in range(len(X_train)):\n",
    "    words = []\n",
    "    rev = str(X_train.iloc[i])\n",
    "    rev = text_to_word_sequence(rev)\n",
    "    temp.append(rev)\n",
    "X_train = temp"
   ]
  },
  {
   "cell_type": "markdown",
   "metadata": {},
   "source": [
    "# converting words to vectors"
   ]
  },
  {
   "cell_type": "code",
   "execution_count": 6,
   "metadata": {
    "ExecuteTime": {
     "end_time": "2018-03-19T07:51:23.621796Z",
     "start_time": "2018-03-19T07:51:23.421863Z"
    },
    "collapsed": true
   },
   "outputs": [],
   "source": [
    "from keras.preprocessing.text import Tokenizer\n",
    "from keras.preprocessing.sequence import pad_sequences\n",
    "\n",
    "max_features = 3000\n",
    "\n",
    "tokenizer = Tokenizer(num_words=max_features)\n",
    "tokenizer.fit_on_texts(X_train)\n",
    "\n",
    "X_train = tokenizer.texts_to_sequences(X_train)\n",
    "X_train = pad_sequences(X_train)"
   ]
  },
  {
   "cell_type": "code",
   "execution_count": 14,
   "metadata": {
    "ExecuteTime": {
     "end_time": "2018-03-19T07:53:33.294738Z",
     "start_time": "2018-03-19T07:53:33.291106Z"
    }
   },
   "outputs": [
    {
     "data": {
      "text/plain": [
       "[[], [1704], [604], [], [5], [113], [274], [], [363], [1704], [16]]"
      ]
     },
     "execution_count": 14,
     "metadata": {},
     "output_type": "execute_result"
    }
   ],
   "source": [
    "tokenizer.texts_to_sequences('how are you')"
   ]
  },
  {
   "cell_type": "markdown",
   "metadata": {},
   "source": [
    "# designing nn classifier"
   ]
  },
  {
   "cell_type": "code",
   "execution_count": 7,
   "metadata": {
    "ExecuteTime": {
     "end_time": "2018-03-19T06:46:18.097935Z",
     "start_time": "2018-03-19T06:46:17.760838Z"
    }
   },
   "outputs": [
    {
     "name": "stderr",
     "output_type": "stream",
     "text": [
      "/home/manohar/.local/lib/python3.6/site-packages/ipykernel_launcher.py:11: UserWarning: Update your `LSTM` call to the Keras 2 API: `LSTM(196, dropout=0.2, recurrent_dropout=0.2)`\n",
      "  # This is added back by InteractiveShellApp.init_path()\n"
     ]
    },
    {
     "name": "stdout",
     "output_type": "stream",
     "text": [
      "_________________________________________________________________\n",
      "Layer (type)                 Output Shape              Param #   \n",
      "=================================================================\n",
      "embedding_1 (Embedding)      (None, 174, 128)          384000    \n",
      "_________________________________________________________________\n",
      "lstm_1 (LSTM)                (None, 196)               254800    \n",
      "_________________________________________________________________\n",
      "dense_1 (Dense)              (None, 2)                 394       \n",
      "=================================================================\n",
      "Total params: 639,194\n",
      "Trainable params: 639,194\n",
      "Non-trainable params: 0\n",
      "_________________________________________________________________\n",
      "None\n"
     ]
    }
   ],
   "source": [
    "from keras.models import Sequential\n",
    "from keras.layers import Dense, Embedding, LSTM\n",
    "\n",
    "embed_dim = 128\n",
    "lstm_out = 196\n",
    "\n",
    "\n",
    "model = Sequential()\n",
    "model.add(\n",
    "    Embedding(max_features, embed_dim, input_length=X_train.shape[1]))\n",
    "model.add(LSTM(lstm_out, dropout_U=0.2, dropout_W=0.2))\n",
    "model.add(Dense(2, activation='softmax'))\n",
    "model.compile(\n",
    "    loss='categorical_crossentropy', optimizer='adam', metrics=['accuracy'])\n",
    "print(model.summary())"
   ]
  },
  {
   "cell_type": "markdown",
   "metadata": {},
   "source": [
    "# training"
   ]
  },
  {
   "cell_type": "code",
   "execution_count": 8,
   "metadata": {
    "ExecuteTime": {
     "end_time": "2018-03-19T07:03:56.143259Z",
     "start_time": "2018-03-19T06:46:23.301897Z"
    }
   },
   "outputs": [
    {
     "name": "stdout",
     "output_type": "stream",
     "text": [
      "Epoch 1/10\n",
      "7117/7117 [==============================] - 68s 10ms/step - loss: 0.1771 - acc: 0.9347\n",
      "Epoch 2/10\n",
      "7117/7117 [==============================] - 73s 10ms/step - loss: 0.0764 - acc: 0.9756\n",
      "Epoch 3/10\n",
      "7117/7117 [==============================] - 67s 9ms/step - loss: 0.0457 - acc: 0.9844\n",
      "Epoch 4/10\n",
      "7117/7117 [==============================] - 137s 19ms/step - loss: 0.0327 - acc: 0.9899\n",
      "Epoch 5/10\n",
      "7117/7117 [==============================] - 176s 25ms/step - loss: 0.0289 - acc: 0.9907\n",
      "Epoch 6/10\n",
      "7117/7117 [==============================] - 145s 20ms/step - loss: 0.0208 - acc: 0.9937\n",
      "Epoch 7/10\n",
      "7117/7117 [==============================] - 87s 12ms/step - loss: 0.0200 - acc: 0.9945\n",
      "Epoch 8/10\n",
      "7117/7117 [==============================] - 84s 12ms/step - loss: 0.0181 - acc: 0.9952\n",
      "Epoch 9/10\n",
      "7117/7117 [==============================] - 100s 14ms/step - loss: 0.0172 - acc: 0.9944\n",
      "Epoch 10/10\n",
      "7117/7117 [==============================] - 116s 16ms/step - loss: 0.0149 - acc: 0.9954\n"
     ]
    },
    {
     "data": {
      "text/plain": [
       "<keras.callbacks.History at 0x7f22779ab0b8>"
      ]
     },
     "execution_count": 8,
     "metadata": {},
     "output_type": "execute_result"
    }
   ],
   "source": [
    "model.fit(X_train, Y_train, epochs = 10,batch_size = 20)"
   ]
  },
  {
   "cell_type": "code",
   "execution_count": 9,
   "metadata": {
    "ExecuteTime": {
     "end_time": "2018-03-19T07:04:05.141574Z",
     "start_time": "2018-03-19T07:04:04.981560Z"
    },
    "collapsed": true
   },
   "outputs": [],
   "source": [
    "temp = []\n",
    "for i in range(len(X_test)):\n",
    "    words = []\n",
    "    rev = str(X_test.iloc[i])\n",
    "    rev = text_to_word_sequence(rev)\n",
    "    temp.append(rev)\n",
    "    \n",
    "temp = tokenizer.texts_to_sequences(temp)\n",
    "le = X_train.shape[1]\n",
    "temp2 = [[0 for i in range(le)] for j in range(len(temp))]\n",
    "\n",
    "for i in range(len(temp)):\n",
    "    for j in range(len(temp[i])-1,-1,-1):\n",
    "        temp2[i][le-1+j-len(temp[i])+1] = temp[i][j];\n",
    "\n",
    "temp2 = np.array(temp2).reshape(len(temp),le,)"
   ]
  },
  {
   "cell_type": "code",
   "execution_count": 25,
   "metadata": {
    "ExecuteTime": {
     "end_time": "2018-03-19T06:28:54.706290Z",
     "start_time": "2018-03-19T06:28:54.700774Z"
    }
   },
   "outputs": [
    {
     "data": {
      "text/plain": [
       "(3051, 189)"
      ]
     },
     "execution_count": 25,
     "metadata": {},
     "output_type": "execute_result"
    }
   ],
   "source": [
    "temp2.shape"
   ]
  },
  {
   "cell_type": "code",
   "execution_count": 10,
   "metadata": {
    "ExecuteTime": {
     "end_time": "2018-03-19T07:04:13.768805Z",
     "start_time": "2018-03-19T07:04:08.254672Z"
    }
   },
   "outputs": [
    {
     "name": "stdout",
     "output_type": "stream",
     "text": [
      "[[2423   27]\n",
      " [  82  519]]\n"
     ]
    }
   ],
   "source": [
    "Y_pr = model.predict(temp2)\n",
    "\n",
    "Y_pred = []\n",
    "\n",
    "for i in range(len(Y_pr)):\n",
    "    if Y_pr[i][0] >= Y_pr[i][1]:\n",
    "        Y_pred.append('ham')\n",
    "    else:\n",
    "        Y_pred.append('spam')\n",
    "        \n",
    "from sklearn.metrics import confusion_matrix\n",
    "cm = confusion_matrix(Y_test, Y_pred)  \n",
    "print(cm)"
   ]
  },
  {
   "cell_type": "markdown",
   "metadata": {
    "ExecuteTime": {
     "end_time": "2018-03-14T06:27:25.114784Z",
     "start_time": "2018-03-14T06:27:24.956140Z"
    }
   },
   "source": [
    "# wrongly predicted"
   ]
  },
  {
   "cell_type": "code",
   "execution_count": 28,
   "metadata": {
    "ExecuteTime": {
     "end_time": "2018-03-19T06:29:42.461786Z",
     "start_time": "2018-03-19T06:29:42.454531Z"
    }
   },
   "outputs": [
    {
     "data": {
      "text/plain": [
       "11"
      ]
     },
     "execution_count": 28,
     "metadata": {},
     "output_type": "execute_result"
    }
   ],
   "source": [
    "import csv\n",
    "file = open('output/wrongly_predicted2.csv', 'w')\n",
    "wr_file = csv.writer(file)\n",
    "wr_file.writerow([\"label\",\"msg\"])"
   ]
  },
  {
   "cell_type": "code",
   "execution_count": 29,
   "metadata": {
    "ExecuteTime": {
     "end_time": "2018-03-19T06:29:46.818989Z",
     "start_time": "2018-03-19T06:29:46.759076Z"
    },
    "collapsed": true
   },
   "outputs": [],
   "source": [
    "for i in range(len(Y_test)):    \n",
    "    if not Y_test.iloc[i] == Y_pred[i]:\n",
    "        wr_file.writerow([Y_test.iloc[i],X_test.iloc[i]])\n",
    "file.close()"
   ]
  },
  {
   "cell_type": "code",
   "execution_count": 42,
   "metadata": {
    "ExecuteTime": {
     "end_time": "2018-03-16T06:18:54.538320Z",
     "start_time": "2018-03-16T06:18:54.532381Z"
    }
   },
   "outputs": [
    {
     "name": "stdout",
     "output_type": "stream",
     "text": [
      "<class 'str'>\n",
      "<class 'str'>\n"
     ]
    }
   ],
   "source": [
    "i= 787\n",
    "print(type(Y_test.iloc[i]))\n",
    "print(type(Y_pred[i]))"
   ]
  },
  {
   "cell_type": "code",
   "execution_count": null,
   "metadata": {
    "collapsed": true
   },
   "outputs": [],
   "source": []
  }
 ],
 "metadata": {
  "kernelspec": {
   "display_name": "Python 3",
   "language": "python",
   "name": "python3"
  },
  "language_info": {
   "codemirror_mode": {
    "name": "ipython",
    "version": 3
   },
   "file_extension": ".py",
   "mimetype": "text/x-python",
   "name": "python",
   "nbconvert_exporter": "python",
   "pygments_lexer": "ipython3",
   "version": "3.6.3"
  }
 },
 "nbformat": 4,
 "nbformat_minor": 2
}
