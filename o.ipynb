{
 "cells": [
  {
   "cell_type": "code",
   "execution_count": 2,
   "metadata": {
    "ExecuteTime": {
     "end_time": "2018-03-20T10:05:09.444899Z",
     "start_time": "2018-03-20T10:05:05.358816Z"
    },
    "_cell_guid": "2bf5a9af-13ad-48f7-95bd-e05d54df0426",
    "_uuid": "68e2462baddcd352475cf4d4c1e9132efa8dd4d6",
    "collapsed": true
   },
   "outputs": [],
   "source": [
    "import pandas as pd\n",
    "import numpy as np"
   ]
  },
  {
   "cell_type": "code",
   "execution_count": 3,
   "metadata": {
    "ExecuteTime": {
     "end_time": "2018-03-20T10:05:09.644478Z",
     "start_time": "2018-03-20T10:05:09.446375Z"
    },
    "_cell_guid": "edd2ccdd-b086-4ea7-9cac-d61ac5b97538",
    "_uuid": "1d4ee956e7fd52855c34eb20afce0f29527fd6b2",
    "collapsed": true
   },
   "outputs": [],
   "source": [
    "from collections import Counter\n",
    "\n",
    "class convert2vec:\n",
    "\n",
    "    def fit_texts(self, words, num_words):\n",
    "        self.num_words = num_words\n",
    "        te2 = []\n",
    "        for i in range(len(words)):\n",
    "            for j in range(len(words[i])):\n",
    "                te2.append(words[i][j])\n",
    "        q = Counter(te2)\n",
    "        le = q.most_common(num_words - 1)\n",
    "        temp = le[0:num_words - 1]\n",
    "        self.words = []\n",
    "        for item in temp:\n",
    "            self.words.append(item[0])\n",
    "        #print(self.words)\n",
    "\n",
    "    def word2vector(self, words):\n",
    "        vectors = []\n",
    "        for i in range(len(words)):\n",
    "            temp = []\n",
    "            for word in words[i]:\n",
    "                te = [0 for i in range(self.num_words)]\n",
    "                te[self.num_words - 1] = 1\n",
    "                for k in range(len(self.words)):\n",
    "                    if word == self.words[k]:\n",
    "                        te[k] = 1\n",
    "                        te[self.num_words - 1] = 0\n",
    "                        break\n",
    "                temp.append(te)\n",
    "            vectors.append(temp)\n",
    "        return vectors"
   ]
  },
  {
   "cell_type": "code",
   "execution_count": 4,
   "metadata": {
    "ExecuteTime": {
     "end_time": "2018-03-20T10:05:18.395408Z",
     "start_time": "2018-03-20T10:05:17.381028Z"
    },
    "_cell_guid": "ee9cfe0f-50f4-4274-90d9-b2ecfc8d2dcb",
    "_uuid": "f94cc5e7371073d49b29d379ad4d8c3e3f6c48b1",
    "collapsed": true
   },
   "outputs": [],
   "source": [
    "data1 = pd.read_csv('../input/spam.csv', encoding = 'latin-1')\n",
    "list = ['Unnamed: 2', 'Unnamed: 3', 'Unnamed: 4']\n",
    "data1 = data1.drop(list, axis=1)\n",
    "\n",
    "data2 = pd.ExcelFile('../input/indiandataset.xls')\n",
    "data2 = data2.parse(0)\n",
    "data2.head()\n",
    "\n",
    "data = pd.concat([data1, data2])"
   ]
  },
  {
   "cell_type": "code",
   "execution_count": 5,
   "metadata": {
    "ExecuteTime": {
     "end_time": "2018-03-20T10:05:29.528739Z",
     "start_time": "2018-03-20T10:05:19.098018Z"
    },
    "_cell_guid": "6944b050-ceab-42fc-855f-b8a34b2e9780",
    "_uuid": "bf97854323fc34363e5f88d35761ac87c6baf113"
   },
   "outputs": [
    {
     "name": "stderr",
     "output_type": "stream",
     "text": [
      "/opt/conda/lib/python3.6/site-packages/h5py/__init__.py:36: FutureWarning: Conversion of the second argument of issubdtype from `float` to `np.floating` is deprecated. In future, it will be treated as `np.float64 == np.dtype(float).type`.\n",
      "  from ._conv import register_converters as _register_converters\n",
      "Using TensorFlow backend.\n"
     ]
    }
   ],
   "source": [
    "from keras.preprocessing.text import text_to_word_sequence\n",
    "temp = []\n",
    "for row in data.itertuples():\n",
    "    rev = str(row[2])\n",
    "    rev = text_to_word_sequence(rev)\n",
    "    temp.append(rev)"
   ]
  },
  {
   "cell_type": "code",
   "execution_count": 6,
   "metadata": {
    "ExecuteTime": {
     "end_time": "2018-03-20T10:06:10.007461Z",
     "start_time": "2018-03-20T10:05:35.405496Z"
    },
    "_cell_guid": "a728de85-66b4-44ee-a135-77857404ed3a",
    "_uuid": "31ea59c27007da9013a80571fc21a1f6d5bb1a53",
    "collapsed": true,
    "scrolled": true
   },
   "outputs": [],
   "source": [
    "vec = convert2vec()\n",
    "vec.fit_texts(temp, 3000)\n",
    "data_vec = vec.word2vector(temp)"
   ]
  },
  {
   "cell_type": "code",
   "execution_count": 7,
   "metadata": {
    "ExecuteTime": {
     "end_time": "2018-03-20T10:06:13.749989Z",
     "start_time": "2018-03-20T10:06:13.531563Z"
    },
    "_cell_guid": "bd4cc88f-fe4d-42c1-9853-d52f382424ae",
    "_uuid": "9b9c3d55095ef80d1ad7f07f202689ae867f04e8",
    "collapsed": true
   },
   "outputs": [],
   "source": [
    "empty = [0 for i in range(3000)]\n",
    "le = len(data_vec)\n",
    "temp2 = [[empty for i in range(200)] for j in range(le)]\n",
    "\n",
    "for i in range(le):\n",
    "    for j in range(len(data_vec[i]) - 1,-1,-1):\n",
    "        temp2[i][199 - (len(data_vec[i]) - 1 - j)] = data_vec[i][j];"
   ]
  },
  {
   "cell_type": "code",
   "execution_count": 8,
   "metadata": {
    "ExecuteTime": {
     "end_time": "2018-03-20T10:06:17.267347Z",
     "start_time": "2018-03-20T10:06:16.382502Z"
    },
    "_cell_guid": "aba1646a-8253-4b73-806e-45bcfbd9e002",
    "_uuid": "daafe6cebcf24883a930c82fefeef9cf6d98ecff",
    "collapsed": true
   },
   "outputs": [],
   "source": [
    "from sklearn.model_selection import train_test_split\n",
    "X_train, X_test, Y_train, Y_test = train_test_split(temp2, data['label'], test_size = 0.30)\n",
    "\n",
    "Y_train = pd.get_dummies(Y_train).values"
   ]
  },
  {
   "cell_type": "code",
   "execution_count": 9,
   "metadata": {
    "ExecuteTime": {
     "end_time": "2018-03-20T10:06:20.659558Z",
     "start_time": "2018-03-20T10:06:20.64356Z"
    },
    "_cell_guid": "367a9003-abdb-4e78-9e24-600c2160b8da",
    "_uuid": "326b0990e4abeca8d64f791703cd57d6c52d4144",
    "collapsed": true
   },
   "outputs": [],
   "source": [
    "# add anything to delete\n",
    "del(temp)\n",
    "del(data['msg'])\n",
    "del(data_vec)\n",
    "del(vec)\n",
    "del(temp2)"
   ]
  },
  {
   "cell_type": "code",
   "execution_count": 10,
   "metadata": {
    "ExecuteTime": {
     "end_time": "2018-03-20T10:06:30.532309Z",
     "start_time": "2018-03-20T10:06:27.475668Z"
    },
    "_cell_guid": "1a3ebc7a-3b73-46fb-a008-2f20a14b6b82",
    "_uuid": "06520a458d0f121e8cce8138c856200a8713755e"
   },
   "outputs": [
    {
     "name": "stderr",
     "output_type": "stream",
     "text": [
      "/opt/conda/lib/python3.6/site-packages/ipykernel_launcher.py:10: UserWarning: Update your `LSTM` call to the Keras 2 API: `LSTM(196, dropout=0.2, recurrent_dropout=0.2)`\n",
      "  # Remove the CWD from sys.path while we load stuff.\n"
     ]
    },
    {
     "name": "stdout",
     "output_type": "stream",
     "text": [
      "_________________________________________________________________\n",
      "Layer (type)                 Output Shape              Param #   \n",
      "=================================================================\n",
      "dense_1 (Dense)              (None, 200, 300)          900300    \n",
      "_________________________________________________________________\n",
      "lstm_1 (LSTM)                (None, 196)               389648    \n",
      "_________________________________________________________________\n",
      "dense_2 (Dense)              (None, 2)                 394       \n",
      "=================================================================\n",
      "Total params: 1,290,342\n",
      "Trainable params: 1,290,342\n",
      "Non-trainable params: 0\n",
      "_________________________________________________________________\n",
      "None\n"
     ]
    }
   ],
   "source": [
    "from keras.models import Sequential\n",
    "from keras.layers import Dense, Embedding, LSTM\n",
    "\n",
    "embed_dim = 128\n",
    "lstm_out = 196\n",
    "\n",
    "\n",
    "model = Sequential()\n",
    "model.add(Dense(300, activation = 'relu', input_shape = (200, 3000)))\n",
    "model.add(LSTM(lstm_out, dropout_U=0.2, dropout_W=0.2))\n",
    "model.add(Dense(2, activation='softmax'))\n",
    "model.compile(\n",
    "    loss='categorical_crossentropy', optimizer='adam', metrics=['accuracy'])\n",
    "print(model.summary())"
   ]
  },
  {
   "cell_type": "code",
   "execution_count": 11,
   "metadata": {
    "ExecuteTime": {
     "end_time": "2018-03-20T10:17:09.725489Z",
     "start_time": "2018-03-20T10:14:20.237575Z"
    },
    "_cell_guid": "a5ae20ca-bb4c-4edd-817b-243b2b0fce65",
    "_uuid": "dd75c0445e427681dfb6f1164ce3404ad6c32cb0",
    "collapsed": true
   },
   "outputs": [],
   "source": [
    "X_train = np.array(X_train, dtype=np.uint8)"
   ]
  },
  {
   "cell_type": "code",
   "execution_count": 12,
   "metadata": {
    "ExecuteTime": {
     "end_time": "2018-03-20T09:50:50.338145Z",
     "start_time": "2018-03-20T09:50:50.321461Z"
    },
    "_cell_guid": "59ca0244-69c2-480c-82df-726b1aacaff6",
    "_uuid": "08b68e54d9e4063d483f736c428519f688c3c96b"
   },
   "outputs": [
    {
     "name": "stdout",
     "output_type": "stream",
     "text": [
      "Epoch 1/5\n",
      "7117/7117 [==============================] - 503s 71ms/step - loss: 0.2372 - acc: 0.9025\n",
      "Epoch 2/5\n",
      "7117/7117 [==============================] - 473s 66ms/step - loss: 0.0797 - acc: 0.9706\n",
      "Epoch 3/5\n",
      "7117/7117 [==============================] - 507s 71ms/step - loss: 0.0529 - acc: 0.9823\n",
      "Epoch 4/5\n",
      "7117/7117 [==============================] - 476s 67ms/step - loss: 0.0397 - acc: 0.9874\n",
      "Epoch 5/5\n",
      "7117/7117 [==============================] - 452s 63ms/step - loss: 0.0296 - acc: 0.9913\n"
     ]
    },
    {
     "data": {
      "text/plain": [
       "<keras.callbacks.History at 0x7fce0586cf98>"
      ]
     },
     "execution_count": 12,
     "metadata": {},
     "output_type": "execute_result"
    }
   ],
   "source": [
    "model.fit(X_train, Y_train, epochs = 5,batch_size = 20)"
   ]
  },
  {
   "cell_type": "code",
   "execution_count": 13,
   "metadata": {
    "ExecuteTime": {
     "end_time": "2018-03-20T10:19:07.698411Z",
     "start_time": "2018-03-20T10:19:07.255451Z"
    },
    "_cell_guid": "ff1eab91-dd3a-4cf9-8358-33c4b94b3b38",
    "_uuid": "250e12a2f3f4239335b37048e647047ad2c8efd0",
    "collapsed": true
   },
   "outputs": [],
   "source": [
    "del(X_train)"
   ]
  },
  {
   "cell_type": "code",
   "execution_count": 14,
   "metadata": {
    "ExecuteTime": {
     "end_time": "2018-03-20T09:43:00.590318Z",
     "start_time": "2018-03-20T09:42:14.571594Z"
    },
    "_cell_guid": "847b6557-1d59-414f-baf5-ef87f5a84ae6",
    "_uuid": "eb2a51140111a3d795598354630df937a6d06520",
    "collapsed": true
   },
   "outputs": [],
   "source": [
    "X_test = np.array(X_test, dtype=np.uint8)"
   ]
  },
  {
   "cell_type": "code",
   "execution_count": 15,
   "metadata": {
    "ExecuteTime": {
     "end_time": "2018-03-20T09:35:00.932435Z",
     "start_time": "2018-03-20T09:34:54.107288Z"
    },
    "_cell_guid": "0eff95d1-f7f8-4ecc-8af1-660083b82552",
    "_uuid": "cb7b534d328d75efa2579111e4477da4d3ee2c60"
   },
   "outputs": [
    {
     "name": "stdout",
     "output_type": "stream",
     "text": [
      "[[2384   59]\n",
      " [  35  573]]\n"
     ]
    }
   ],
   "source": [
    "Y_pr = model.predict(X_test)\n",
    "\n",
    "Y_pred = []\n",
    "\n",
    "for i in range(len(Y_pr)):\n",
    "    if Y_pr[i][0] >= Y_pr[i][1]:\n",
    "        Y_pred.append('ham')\n",
    "    else:\n",
    "        Y_pred.append('spam')\n",
    "        \n",
    "from sklearn.metrics import confusion_matrix\n",
    "cm = confusion_matrix(Y_test, Y_pred)  \n",
    "print(cm)"
   ]
  },
  {
   "cell_type": "code",
   "execution_count": null,
   "metadata": {
    "_cell_guid": "90eb8b38-95ea-4270-9cda-c802b02aeaf3",
    "_uuid": "f988b5e5476f43d5e65219e6b7e52017112dce43",
    "collapsed": true
   },
   "outputs": [],
   "source": []
  }
 ],
 "metadata": {
  "kernelspec": {
   "display_name": "Python 3",
   "language": "python",
   "name": "python3"
  },
  "language_info": {
   "codemirror_mode": {
    "name": "ipython",
    "version": 3
   },
   "file_extension": ".py",
   "mimetype": "text/x-python",
   "name": "python",
   "nbconvert_exporter": "python",
   "pygments_lexer": "ipython3",
   "version": "3.6.3"
  }
 },
 "nbformat": 4,
 "nbformat_minor": 1
}
