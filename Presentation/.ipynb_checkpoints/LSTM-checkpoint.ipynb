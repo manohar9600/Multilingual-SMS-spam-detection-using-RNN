{
 "cells": [
  {
   "cell_type": "markdown",
   "metadata": {},
   "source": [
    "Importing Libraries"
   ]
  },
  {
   "cell_type": "code",
   "execution_count": 1,
   "metadata": {
    "ExecuteTime": {
     "end_time": "2018-05-04T05:51:41.330281Z",
     "start_time": "2018-05-04T05:51:33.699399Z"
    }
   },
   "outputs": [
    {
     "name": "stderr",
     "output_type": "stream",
     "text": [
      "Using TensorFlow backend.\n"
     ]
    }
   ],
   "source": [
    "import pandas as pd\n",
    "import numpy as np\n",
    "from collections import Counter\n",
    "from keras.preprocessing.text import text_to_word_sequence"
   ]
  },
  {
   "cell_type": "code",
   "execution_count": 2,
   "metadata": {
    "ExecuteTime": {
     "end_time": "2018-05-04T05:51:42.856358Z",
     "start_time": "2018-05-04T05:51:41.333044Z"
    },
    "collapsed": true
   },
   "outputs": [],
   "source": [
    "data1 = pd.read_csv('spam.csv', encoding = 'latin-1') # Kaggle dataset\n",
    "data1 = data1.drop(['Unnamed: 2', 'Unnamed: 3', 'Unnamed: 4'], axis = 1)\n",
    "data1.head()\n",
    "\n",
    "data2 = pd.ExcelFile('revisedindiandataset.xls')\n",
    "data2 = data2.parse(0)\n",
    "data2 = data2.drop(['code'], axis = 1)\n",
    "data2.head()\n",
    "\n",
    "data = pd.concat([data1, data2])"
   ]
  },
  {
   "cell_type": "markdown",
   "metadata": {},
   "source": [
    "# Dividing sentences for word2vec training"
   ]
  },
  {
   "cell_type": "code",
   "execution_count": 3,
   "metadata": {
    "ExecuteTime": {
     "end_time": "2018-05-04T05:51:46.378470Z",
     "start_time": "2018-05-04T05:51:46.073081Z"
    },
    "collapsed": true
   },
   "outputs": [],
   "source": [
    "sentences = []\n",
    "pro_data = []\n",
    "for row in data.itertuples():\n",
    "    rev = str(row[2])\n",
    "    words = text_to_word_sequence(rev)\n",
    "    \n",
    "    if(len(words) == 0):\n",
    "        pro_data.append(words)\n",
    "        continue\n",
    "    \n",
    "    if(len(words) == 1):\n",
    "        te = ['</s>', words[0], '</e>']\n",
    "        sentences.append(te)\n",
    "        pro_data.append(words)\n",
    "        continue\n",
    "    \n",
    "    te = ['</s>', words[0], words[1]]\n",
    "    sentences.append(te)\n",
    "    \n",
    "    for i in range(1,len(words) - 1):\n",
    "        te = [words[i-1], words[i], words[i+1]]\n",
    "        sentences.append(te)\n",
    "        \n",
    "    te = [words[len(words) - 2], words[len(words) - 1], '</e>']\n",
    "    sentences.append(te)   \n",
    "    \n",
    "    pro_data.append(words)"
   ]
  },
  {
   "cell_type": "code",
   "execution_count": 4,
   "metadata": {
    "ExecuteTime": {
     "end_time": "2018-05-04T05:51:46.878229Z",
     "start_time": "2018-05-04T05:51:46.872220Z"
    }
   },
   "outputs": [
    {
     "name": "stdout",
     "output_type": "stream",
     "text": [
      "Go until jurong point, crazy.. Available only in bugis n great world la e buffet... Cine there got amore wat...\n",
      "['</s>', 'go', 'until']\n",
      "['go', 'until', 'jurong']\n"
     ]
    }
   ],
   "source": [
    "print(data['msg'].iloc[0])\n",
    "print(sentences[0])\n",
    "print(sentences[1])"
   ]
  },
  {
   "cell_type": "markdown",
   "metadata": {},
   "source": [
    "# word2vec training"
   ]
  },
  {
   "cell_type": "code",
   "execution_count": 5,
   "metadata": {
    "ExecuteTime": {
     "end_time": "2018-05-04T05:52:03.173676Z",
     "start_time": "2018-05-04T05:51:51.749232Z"
    }
   },
   "outputs": [
    {
     "name": "stderr",
     "output_type": "stream",
     "text": [
      "C:\\ProgramData\\Anaconda3\\lib\\site-packages\\gensim\\utils.py:1197: UserWarning: detected Windows; aliasing chunkize to chunkize_serial\n",
      "  warnings.warn(\"detected Windows; aliasing chunkize to chunkize_serial\")\n"
     ]
    }
   ],
   "source": [
    "size = 150\n",
    "from gensim.models import Word2Vec\n",
    "model = Word2Vec(sentences, min_count=1, size = size)"
   ]
  },
  {
   "cell_type": "code",
   "execution_count": 6,
   "metadata": {
    "ExecuteTime": {
     "end_time": "2018-05-04T05:52:05.887352Z",
     "start_time": "2018-05-04T05:52:05.837322Z"
    },
    "scrolled": true
   },
   "outputs": [
    {
     "name": "stderr",
     "output_type": "stream",
     "text": [
      "C:\\ProgramData\\Anaconda3\\lib\\site-packages\\ipykernel_launcher.py:1: DeprecationWarning: Call to deprecated `__getitem__` (Method will be removed in 4.0.0, use self.wv.__getitem__() instead).\n",
      "  \"\"\"Entry point for launching an IPython kernel.\n"
     ]
    },
    {
     "data": {
      "text/plain": [
       "array([ -7.63274357e-02,   6.56855106e-02,  -1.81274548e-01,\n",
       "        -5.93337454e-02,  -9.38541666e-02,   1.24068230e-01,\n",
       "        -7.51162097e-02,  -8.01607892e-02,  -2.70406187e-01,\n",
       "        -4.93438654e-02,   1.63160726e-01,  -1.68489933e-01,\n",
       "         3.59951496e-01,  -1.22219384e-01,   6.20605871e-02,\n",
       "         7.76917562e-02,   1.03679672e-01,  -6.13218658e-02,\n",
       "        -6.47999525e-01,  -8.04246217e-02,   5.40767275e-02,\n",
       "        -2.24839034e-03,   1.24966413e-01,  -2.33261794e-01,\n",
       "        -2.09508583e-01,  -4.87217680e-02,   3.39099765e-02,\n",
       "        -1.16569303e-01,   8.83139595e-02,   1.72589257e-01,\n",
       "         1.43201202e-01,  -3.36733386e-02,  -3.65715623e-01,\n",
       "        -1.03109099e-01,   3.59832495e-03,   9.67013463e-02,\n",
       "         3.12370714e-02,   2.34864582e-03,  -1.18923955e-01,\n",
       "        -4.34898883e-01,   2.91270882e-01,   2.56589085e-01,\n",
       "        -9.66653377e-02,  -4.09884453e-01,  -1.49413124e-01,\n",
       "        -1.47451684e-02,   1.25115275e-01,  -9.65339243e-02,\n",
       "        -4.38281859e-04,  -3.60241309e-02,   7.00955763e-02,\n",
       "         3.18453908e-02,  -1.78163126e-01,  -3.48822623e-01,\n",
       "        -9.40543190e-02,  -2.68911407e-03,  -9.54498500e-02,\n",
       "        -1.58220261e-01,   4.46659625e-02,  -1.51918173e-01,\n",
       "        -1.65695623e-01,  -5.83040826e-02,  -3.08972359e-01,\n",
       "        -2.43378341e-01,   1.74745202e-01,   2.89305359e-01,\n",
       "        -3.71823728e-01,   1.18456215e-01,  -2.51936555e-01,\n",
       "         5.04528224e-01,  -8.33489671e-02,  -4.22045663e-02,\n",
       "         4.04152393e-01,  -1.26500100e-01,   8.67477134e-02,\n",
       "         1.50203183e-01,   3.85072440e-01,  -6.05816878e-02,\n",
       "        -9.12450999e-02,   3.14195603e-01,   5.26208393e-02,\n",
       "         5.00139356e-01,  -4.82125133e-02,  -1.65010076e-02,\n",
       "        -3.70175749e-01,   3.40629160e-01,   2.75145590e-01,\n",
       "        -3.81464697e-02,   2.65911907e-01,  -6.55446574e-02,\n",
       "        -1.67034641e-01,  -6.46807924e-02,  -2.96699643e-01,\n",
       "        -2.22444639e-01,  -2.71143913e-01,  -1.42760441e-01,\n",
       "        -3.18833768e-01,   2.98743583e-02,  -5.33283092e-02,\n",
       "        -3.13236117e-01,   2.57452488e-01,   2.74483651e-01,\n",
       "         2.65050113e-01,  -5.52856065e-02,  -3.28791022e-01,\n",
       "         8.27555954e-02,   4.94411215e-02,  -2.04397347e-02,\n",
       "        -3.82131249e-01,  -1.92962617e-01,  -7.29275271e-02,\n",
       "         3.72964114e-01,   1.85549855e-02,  -7.55323172e-02,\n",
       "         3.62226844e-01,  -9.39920843e-02,   2.48599663e-01,\n",
       "         5.02032004e-02,   3.30337018e-01,   1.01296484e-01,\n",
       "        -1.17074735e-01,  -7.65512362e-02,  -1.09219916e-01,\n",
       "        -4.68869269e-01,   8.38770270e-02,   3.01842481e-01,\n",
       "         5.19865453e-01,  -2.04968691e-01,  -1.75517455e-01,\n",
       "        -4.10714410e-02,   3.23106758e-02,   1.40807331e-01,\n",
       "        -3.67190540e-01,  -3.30798835e-01,   8.51923600e-03,\n",
       "         4.91605513e-02,  -2.48212367e-02,  -1.35666013e-01,\n",
       "        -2.55994558e-01,   1.29218221e-01,  -3.85363936e-01,\n",
       "         1.79664955e-01,  -1.70168087e-01,  -4.56096716e-02,\n",
       "        -2.23369330e-01,  -2.46507004e-01,   1.28907368e-01,\n",
       "        -8.80324766e-02,   2.65786231e-01,   2.55642325e-01], dtype=float32)"
      ]
     },
     "execution_count": 6,
     "metadata": {},
     "output_type": "execute_result"
    }
   ],
   "source": [
    "model['god']"
   ]
  },
  {
   "cell_type": "markdown",
   "metadata": {},
   "source": [
    "# Pre - padding"
   ]
  },
  {
   "cell_type": "code",
   "execution_count": 7,
   "metadata": {
    "ExecuteTime": {
     "end_time": "2018-05-03T10:41:12.254670Z",
     "start_time": "2018-05-03T10:40:38.984582Z"
    }
   },
   "outputs": [
    {
     "name": "stderr",
     "output_type": "stream",
     "text": [
      "C:\\ProgramData\\Anaconda3\\lib\\site-packages\\ipykernel_launcher.py:7: DeprecationWarning: Call to deprecated `__getitem__` (Method will be removed in 4.0.0, use self.wv.__getitem__() instead).\n",
      "  import sys\n"
     ]
    }
   ],
   "source": [
    "data_vec = []\n",
    "msg_limit = 200\n",
    "for i in range(len(pro_data)):\n",
    "    empty = [0 for i in range(size)]\n",
    "    temp = [[0 for i in range(size)] for j in range(msg_limit)]\n",
    "    for j in range(len(pro_data[i])-1, -1, -1):\n",
    "        temp[199 - (len(pro_data[i])-1-j)] = model[pro_data[i][j]]\n",
    "    data_vec.append(temp)\n",
    "data_vec = np.array(data_vec)"
   ]
  },
  {
   "cell_type": "markdown",
   "metadata": {},
   "source": [
    "splitting data for training and testing purposes"
   ]
  },
  {
   "cell_type": "code",
   "execution_count": 8,
   "metadata": {
    "ExecuteTime": {
     "end_time": "2018-05-03T10:41:14.449616Z",
     "start_time": "2018-05-03T10:41:12.255621Z"
    },
    "collapsed": true
   },
   "outputs": [],
   "source": [
    "from sklearn.model_selection import train_test_split\n",
    "X_train, X_test, Y_train, Y_test = train_test_split(\n",
    "    data_vec, data['label'], test_size=0.30, random_state=0)\n",
    "\n",
    "Y_train = pd.get_dummies(Y_train).values"
   ]
  },
  {
   "cell_type": "markdown",
   "metadata": {},
   "source": [
    "# Model"
   ]
  },
  {
   "cell_type": "code",
   "execution_count": 9,
   "metadata": {
    "ExecuteTime": {
     "end_time": "2018-05-03T10:41:19.421683Z",
     "start_time": "2018-05-03T10:41:17.657808Z"
    }
   },
   "outputs": [
    {
     "name": "stdout",
     "output_type": "stream",
     "text": [
      "_________________________________________________________________\n",
      "Layer (type)                 Output Shape              Param #   \n",
      "=================================================================\n",
      "lstm_1 (LSTM)                (None, 200)               280800    \n",
      "_________________________________________________________________\n",
      "dropout_1 (Dropout)          (None, 200)               0         \n",
      "_________________________________________________________________\n",
      "dense_1 (Dense)              (None, 2)                 402       \n",
      "=================================================================\n",
      "Total params: 281,202\n",
      "Trainable params: 281,202\n",
      "Non-trainable params: 0\n",
      "_________________________________________________________________\n",
      "None\n"
     ]
    }
   ],
   "source": [
    "from keras.models import Sequential\n",
    "from keras.layers import Dense, Embedding, LSTM, Dropout\n",
    "\n",
    "classifier = Sequential()\n",
    "classifier.add(LSTM(200, input_shape =(200, size)))\n",
    "classifier.add(Dropout(0.2))\n",
    "classifier.add(Dense(2, activation='softmax'))\n",
    "classifier.compile(\n",
    "    loss='categorical_crossentropy', optimizer='adam', metrics=['accuracy'])\n",
    "print(classifier.summary())"
   ]
  },
  {
   "cell_type": "code",
   "execution_count": 10,
   "metadata": {
    "ExecuteTime": {
     "end_time": "2018-05-03T10:46:29.236935Z",
     "start_time": "2018-05-03T10:41:19.847054Z"
    }
   },
   "outputs": [
    {
     "name": "stdout",
     "output_type": "stream",
     "text": [
      "Epoch 1/7\n",
      "7097/7097 [==============================] - 64s 9ms/step - loss: 0.2242 - acc: 0.9139\n",
      "Epoch 2/7\n",
      "7097/7097 [==============================] - 40s 6ms/step - loss: 0.1351 - acc: 0.9515\n",
      "Epoch 3/7\n",
      "7097/7097 [==============================] - 39s 6ms/step - loss: 0.1064 - acc: 0.9593\n",
      "Epoch 4/7\n",
      "7097/7097 [==============================] - 39s 6ms/step - loss: 0.0947 - acc: 0.9672\n",
      "Epoch 5/7\n",
      "7097/7097 [==============================] - 40s 6ms/step - loss: 0.0884 - acc: 0.9684\n",
      "Epoch 6/7\n",
      "7097/7097 [==============================] - 43s 6ms/step - loss: 0.0708 - acc: 0.9751\n",
      "Epoch 7/7\n",
      "7097/7097 [==============================] - 42s 6ms/step - loss: 0.0746 - acc: 0.9724\n"
     ]
    },
    {
     "data": {
      "text/plain": [
       "<keras.callbacks.History at 0x1ce62df9e10>"
      ]
     },
     "execution_count": 10,
     "metadata": {},
     "output_type": "execute_result"
    }
   ],
   "source": [
    "classifier.fit(X_train, Y_train, epochs = 7, batch_size = 50) # training the model"
   ]
  },
  {
   "cell_type": "markdown",
   "metadata": {},
   "source": [
    "# Evaluating Accuracy"
   ]
  },
  {
   "cell_type": "code",
   "execution_count": 11,
   "metadata": {
    "ExecuteTime": {
     "end_time": "2018-05-03T10:46:35.648004Z",
     "start_time": "2018-05-03T10:46:29.238930Z"
    },
    "collapsed": true
   },
   "outputs": [],
   "source": [
    "Y_pr = classifier.predict(X_test)\n",
    "\n",
    "Y_pred = []\n",
    "\n",
    "for i in range(len(Y_pr)):\n",
    "    if Y_pr[i][0] >= Y_pr[i][1]:\n",
    "        Y_pred.append('ham')\n",
    "    else:\n",
    "        Y_pred.append('spam')"
   ]
  },
  {
   "cell_type": "code",
   "execution_count": 12,
   "metadata": {
    "ExecuteTime": {
     "end_time": "2018-05-03T10:46:35.679708Z",
     "start_time": "2018-05-03T10:46:35.649788Z"
    }
   },
   "outputs": [
    {
     "name": "stdout",
     "output_type": "stream",
     "text": [
      "[[2398   40]\n",
      " [  61  543]]\n"
     ]
    }
   ],
   "source": [
    "from sklearn.metrics import confusion_matrix\n",
    "cm = confusion_matrix(Y_test, Y_pred)  \n",
    "print(cm)"
   ]
  },
  {
   "cell_type": "code",
   "execution_count": null,
   "metadata": {
    "collapsed": true
   },
   "outputs": [],
   "source": []
  }
 ],
 "metadata": {
  "kernelspec": {
   "display_name": "Python 3",
   "language": "python",
   "name": "python3"
  },
  "language_info": {
   "codemirror_mode": {
    "name": "ipython",
    "version": 3
   },
   "file_extension": ".py",
   "mimetype": "text/x-python",
   "name": "python",
   "nbconvert_exporter": "python",
   "pygments_lexer": "ipython3",
   "version": "3.6.3"
  }
 },
 "nbformat": 4,
 "nbformat_minor": 2
}
